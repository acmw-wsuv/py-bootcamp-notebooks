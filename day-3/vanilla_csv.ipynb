{
 "cells": [
  {
   "cell_type": "markdown",
   "metadata": {},
   "source": [
    "# Setup\n",
    "\n",
    "## Import packages for later use\n",
    "\n",
    "`csv` is the built-in Python library for interacting with .csv files.\n",
    "\n",
    "`os` and `shutil` are for interacting with the operating system and files"
   ]
  },
  {
   "cell_type": "code",
   "execution_count": null,
   "metadata": {},
   "outputs": [],
   "source": [
    "import csv\n",
    "import os\n",
    "import shutil\n",
    "\n",
    "# Prepare paths to datasets\n",
    "pokemon_csv_path = 'pokemon_data.csv'\n",
    "mtg_csv_path = 'mtg_data.csv'"
   ]
  },
  {
   "cell_type": "markdown",
   "metadata": {},
   "source": [
    "# Examples\n",
    "\n",
    "## Reading .csv files\n",
    "\n",
    "### Counting rows\n",
    "\n",
    "First let's do something simple: Count the lines in a .csv file\n",
    "\n",
    "At the very least, we'll have to open the file"
   ]
  },
  {
   "cell_type": "code",
   "execution_count": null,
   "metadata": {},
   "outputs": [],
   "source": [
    "pokemon_file = open(pokemon_csv_path, encoding='utf-8')"
   ]
  },
  {
   "cell_type": "markdown",
   "metadata": {},
   "source": [
    "The built-in way to read .csv files is using the `csv.reader()` function"
   ]
  },
  {
   "cell_type": "code",
   "execution_count": null,
   "metadata": {},
   "outputs": [],
   "source": [
    "csv_reader = csv.reader(pokemon_file)"
   ]
  },
  {
   "cell_type": "markdown",
   "metadata": {},
   "source": [
    "Now we can use `csv_reader` as an iterable, and use it to count the lines in the file.\n",
    "\n",
    "Each iteration will return one line of the .csv, which will then have an array of the comma-separated values"
   ]
  },
  {
   "cell_type": "code",
   "execution_count": null,
   "metadata": {},
   "outputs": [],
   "source": [
    "# Comment out the line below to continue iterating through the csv\n",
    "# You'll keep seeing this throughout the example, it resets the file position\n",
    "pokemon_file.seek(0)\n",
    "\n",
    "# next(iterable) will return the next iteration of the iterable, or raising StopIteration\n",
    "# Internally, it calls the __next__() method\n",
    "first_line = next(csv_reader)\n",
    "print(first_line)"
   ]
  },
  {
   "cell_type": "code",
   "execution_count": null,
   "metadata": {},
   "outputs": [],
   "source": [
    "pokemon_file.seek(0)\n",
    "line_count = 0\n",
    "for line in csv_reader:\n",
    "    line_count += 1\n",
    "    \n",
    "line_count"
   ]
  },
  {
   "cell_type": "markdown",
   "metadata": {},
   "source": [
    "We can also use a trick with `sum()` to count up the number of lines"
   ]
  },
  {
   "cell_type": "code",
   "execution_count": null,
   "metadata": {},
   "outputs": [],
   "source": [
    "pokemon_file.seek(0)\n",
    "line_count_with_sum = sum(1 for i in csv_reader)\n",
    "line_count_with_sum"
   ]
  },
  {
   "cell_type": "markdown",
   "metadata": {},
   "source": [
    "Finally, we should close the file handler to release the system resources.  \n",
    "(Note: You will have to rerun the code block with `open(pokemon_csv_path, ...)` to use the above code examples again."
   ]
  },
  {
   "cell_type": "code",
   "execution_count": null,
   "metadata": {},
   "outputs": [],
   "source": [
    "pokemon_file.close()"
   ]
  },
  {
   "cell_type": "markdown",
   "metadata": {},
   "source": [
    "To generalize this and be able to count lines for any .csv file, we can throw this logic into a function.\n",
    "\n",
    "We also don't want to forget using `.close()`, so we could use a context manager to open the file instead."
   ]
  },
  {
   "cell_type": "code",
   "execution_count": null,
   "metadata": {},
   "outputs": [],
   "source": [
    "def count_csv_rows(path_to_csv):\n",
    "    with open(path_to_csv, encoding='utf8') as f:\n",
    "        r = csv.reader(f)\n",
    "        return sum(1 for i in r)"
   ]
  },
  {
   "cell_type": "code",
   "execution_count": null,
   "metadata": {},
   "outputs": [],
   "source": [
    "print(f'Number of rows: {count_csv_rows(pokemon_csv_path)}')"
   ]
  },
  {
   "cell_type": "markdown",
   "metadata": {},
   "source": [
    "### Finding data in a .csv\n",
    "\n",
    "Say we want to find all the Pokemon that weigh more than 900kg.\n",
    "\n",
    "We really want:\n",
    "* A list\n",
    "* of Pokemon names (a single Pokemon is 1 row, name is a single column in that row)\n",
    "* that have >900 weight (weight is just another column in the row)"
   ]
  },
  {
   "cell_type": "code",
   "execution_count": null,
   "metadata": {},
   "outputs": [],
   "source": [
    "with open(pokemon_csv_path, encoding='utf-8') as f:\n",
    "    r = csv.reader(f)\n",
    "    \n",
    "    # Find the index of the column's we're interested in\n",
    "    header_line = next(r)\n",
    "    name_index = header_line.index('name')\n",
    "    weight_index = header_line.index('weight')\n",
    "    \n",
    "    names = []\n",
    "    for row in r:\n",
    "        # Need to convert value to float to compare to 900\n",
    "        if float(row[weight_index]) > 900:\n",
    "            names.append(row[name_index])\n",
    "            \n",
    "    # List comprehension equivalent to the above loop, but it's not very clear what's going on\n",
    "    # names = [row[name_index] for row in r if float(row[weight_index]) > 900]\n",
    "\n",
    "print(names)"
   ]
  },
  {
   "cell_type": "markdown",
   "metadata": {},
   "source": [
    "However, there is a potentially better way within the `csv` library.\n",
    "\n",
    "By using a `csv.DictReader` instead, the first row will become our field names which we can then access directly for each row. Since boilerplate code has been reduced, the list comprehension that was a bit unwieldy above will fit nicely and be very readable."
   ]
  },
  {
   "cell_type": "code",
   "execution_count": null,
   "metadata": {},
   "outputs": [],
   "source": [
    "def more_than_900_weight(filename):\n",
    "    with open(filename, encoding='utf-8') as f:\n",
    "        r = csv.DictReader(f)\n",
    "        return [row['name'] for row in r if float(row['weight']) > 900]\n",
    "\n",
    "print(more_than_900_weight(pokemon_csv_path))"
   ]
  },
  {
   "cell_type": "markdown",
   "metadata": {},
   "source": [
    "Try modifying the code above to see other information with different conditions!"
   ]
  },
  {
   "cell_type": "markdown",
   "metadata": {},
   "source": [
    "# TODO"
   ]
  },
  {
   "cell_type": "markdown",
   "metadata": {},
   "source": [
    "Now we'll set up a function to search for grass-type Pokemon"
   ]
  },
  {
   "cell_type": "code",
   "execution_count": null,
   "metadata": {},
   "outputs": [],
   "source": [
    "def search_csv(path_to_csv, search_for):\n",
    "    with open(path_to_csv, encoding='utf-8') as f:\n",
    "        r = csv.reader(f)\n",
    "        return [row for row in r if search_for in row]"
   ]
  },
  {
   "cell_type": "code",
   "execution_count": null,
   "metadata": {},
   "outputs": [],
   "source": [
    "search_csv(pokemon_csv_path, 'grass')"
   ]
  },
  {
   "cell_type": "markdown",
   "metadata": {},
   "source": [
    "Why doesn't the code block above output anything? Is that what we want?\n",
    "\n",
    "If not, try to change `search_csv` to suit your desired behavior.\n",
    "\n",
    "Hint: If you're having trouble try running the code block below. Think more why \"Moltres\" would return a result but \"Moltre\" does not..."
   ]
  },
  {
   "cell_type": "code",
   "execution_count": null,
   "metadata": {},
   "outputs": [],
   "source": [
    "search_terms = ['Squirtle', 'Squ', 'Moltres', 'Moltre']\n",
    "\n",
    "for term in search_terms:\n",
    "    print(f'Search for \"{term}\" has {len(search_csv(pokemon_csv_path, term))} results')"
   ]
  },
  {
   "cell_type": "code",
   "execution_count": null,
   "metadata": {},
   "outputs": [],
   "source": [
    "artifact_count = len(search_csv(mtg_csv_path, 'Artifact'))\n",
    "print(f'Rows that have a field that contain only \"Artifact\": {artifact_count}')"
   ]
  },
  {
   "cell_type": "code",
   "execution_count": null,
   "metadata": {},
   "outputs": [],
   "source": [
    "def select_column(path_to_csv, column_name):\n",
    "    with open(path_to_csv, encoding='utf-8') as f:\n",
    "        r = csv.reader(f)\n",
    "        column_index = next(r).index(column_name)\n",
    "        return [row[column_index] for row in r if row[column_index]]"
   ]
  },
  {
   "cell_type": "code",
   "execution_count": null,
   "metadata": {},
   "outputs": [],
   "source": [
    "mega_names = select_column('pokemon_data.csv', 'megas')\n",
    "print(mega_names)"
   ]
  },
  {
   "cell_type": "code",
   "execution_count": null,
   "metadata": {},
   "outputs": [],
   "source": [
    "def get_average(path_to_csv, column_name):\n",
    "    with open(path_to_csv, encoding='utf-8') as f:\n",
    "        r = csv.DictReader(f)\n",
    "        \n",
    "        values = [float(row[column_name]) for row in r]\n",
    "        return sum(values) / len(values)"
   ]
  },
  {
   "cell_type": "code",
   "execution_count": null,
   "metadata": {},
   "outputs": [],
   "source": [
    "attributes_to_average = ['speed', 'health', 'attack', 'defense', 'height']\n",
    "\n",
    "postfixes = {'height': 'm',\n",
    "             'weight': 'kg'}\n",
    "\n",
    "for attribute in attributes_to_average:\n",
    "    average = get_average(pokemon_csv_path, attribute)\n",
    "    \n",
    "    # Get a little more fancy by adding units to weight and height\n",
    "    post_string = ''\n",
    "    if attribute in postfixes:\n",
    "        post_string = postfixes[attribute]\n",
    "        \n",
    "    print(f'Average {attribute}: {average:.2f}' + post_string)"
   ]
  },
  {
   "cell_type": "markdown",
   "metadata": {},
   "source": [
    "### Find most common occurence in a column\n",
    "\n",
    "In the below example, we can take advantage of Python's great built-in libraries with the `collections.Counter` class. Documentation for the `collections` library can be found [here](https://docs.python.org/3/library/collections.html)\n",
    "\n",
    "***WARNING***  \n",
    "*In some college classes you may be restricted from using some built-in libraries, so you should still know the basics of how these work behind the scenes.*"
   ]
  },
  {
   "cell_type": "code",
   "execution_count": null,
   "metadata": {},
   "outputs": [],
   "source": [
    "from collections import Counter\n",
    "\n",
    "def most_common(path_to_csv, column_name, predicate=None):\n",
    "    with open(path_to_csv, encoding='utf-8') as f:\n",
    "        r = csv.DictReader(f)\n",
    "        \n",
    "        if pred:\n",
    "            counter = Counter([row[column_name] for row in r if pred(row[column_name])])\n",
    "        else:\n",
    "            counter = Counter([row[column_name] for row in r])\n",
    "        \n",
    "        # Since .most_common() returns an array, we're returning the first element of that\n",
    "        return counter.most_common(1)[0]"
   ]
  },
  {
   "cell_type": "markdown",
   "metadata": {},
   "source": [
    "Below are some examples using our new function."
   ]
  },
  {
   "cell_type": "code",
   "execution_count": null,
   "metadata": {},
   "outputs": [],
   "source": [
    "speed, count = most_common(pokemon_csv_path, 'speed')\n",
    "print(f'\"{speed}\" was the most common speed with {count} occurances')"
   ]
  },
  {
   "cell_type": "code",
   "execution_count": null,
   "metadata": {},
   "outputs": [],
   "source": [
    "print(f'Our Magic The Gathering dataset contains information on '\n",
    "      + f'{count_csv_rows(mtg_csv_path) - 1} cards')\n",
    "\n",
    "common_type, count = most_common(mtg_csv_path, 'type')\n",
    "\n",
    "print(f'\"{common_type}\" was the most common type with {count} occurances')"
   ]
  },
  {
   "cell_type": "code",
   "execution_count": null,
   "metadata": {},
   "outputs": [],
   "source": [
    "common_subtype, count = most_common(mtg_csv_path, 'subtypes')\n",
    "\n",
    "print(f'\"{common_subtype}\" was the most common subtype with {count} occurances')"
   ]
  },
  {
   "cell_type": "code",
   "execution_count": null,
   "metadata": {},
   "outputs": [],
   "source": [
    "common_subtype, count = most_common(mtg_csv_path, 'subtypes',\n",
    "                                    lambda s: len(s))\n",
    "\n",
    "print(f'\"{common_subtype}\" was the most common subtype with {count} occurances')"
   ]
  },
  {
   "cell_type": "markdown",
   "metadata": {},
   "source": [
    "## Writing to .csv files\n",
    "\n",
    "### Most basic example"
   ]
  },
  {
   "cell_type": "code",
   "execution_count": null,
   "metadata": {},
   "outputs": [],
   "source": [
    "students = ['Bob Gel Sr.', 'Bob Gel Jr.', 'Jane Doe']\n",
    "students_with_id = [(name, i) for i, name in enumerate(students)]\n",
    "\n",
    "with open('new.csv', 'w', newline='') as f:\n",
    "    writer = csv.writer(f)\n",
    "    writer.writerows(students_with_id)  # parameter is some iterable"
   ]
  },
  {
   "cell_type": "code",
   "execution_count": null,
   "metadata": {},
   "outputs": [],
   "source": [
    "# Confirm that the .csv we wrote it as expected and then delete it\n",
    "with open('new.csv') as f:\n",
    "    r = csv.reader(f)\n",
    "    for row in r:\n",
    "        print(row)\n",
    "        \n",
    "os.remove('new.csv')"
   ]
  },
  {
   "cell_type": "markdown",
   "metadata": {},
   "source": [
    "### Modifying existing values\n",
    "\n",
    "Going back to a previous example, let's modify our Pokemon dataset to cap the weight at 800kg.\n",
    "\n",
    "In order to not break the earlier code blocks, we're going to first copy the dataset to a new file and operate on that."
   ]
  },
  {
   "cell_type": "code",
   "execution_count": null,
   "metadata": {},
   "outputs": [],
   "source": [
    "capped_pokemon_csv_path = 'sub800kg_pokemon_data.csv'\n",
    "shutil.copy(pokemon_csv_path, capped_pokemon_csv_path)"
   ]
  },
  {
   "cell_type": "code",
   "execution_count": null,
   "metadata": {},
   "outputs": [],
   "source": [
    "print(f'# of Pokemon with weight >900: '\n",
    "      + f'{len(more_than_900_weight(capped_pokemon_csv_path))}')"
   ]
  },
  {
   "cell_type": "markdown",
   "metadata": {},
   "source": [
    "Reading from and writing to the same file at once is a recipe for disaster, so in this example we will load the entire dataset into memory first, and then write only once you have stopped reading. However, this method will have a larger memory footprint and may not work for larger datasets.\n",
    "\n",
    "Another solution would be to first write to some temporary file, and then move that file to overwrite the original.  \n",
    "*PS. There is a built-in library* `tempfile` *for this too!*"
   ]
  },
  {
   "cell_type": "code",
   "execution_count": null,
   "metadata": {},
   "outputs": [],
   "source": [
    "fields = ''\n",
    "data = []\n",
    "with open(capped_pokemon_csv_path, encoding='utf-8') as f:\n",
    "    r = csv.DictReader(f)\n",
    "    fields = r.fieldnames\n",
    "    \n",
    "    for row in r:\n",
    "        if float(row['weight']) > 800:\n",
    "            row['weight'] = 800\n",
    "        data.append(row)\n",
    "\n",
    "with open(capped_pokemon_csv_path, 'w', encoding='utf-8') as f:\n",
    "    w = csv.DictWriter(f, fields)\n",
    "    w.writeheader()\n",
    "    \n",
    "    for row in data:\n",
    "        w.writerow(row)"
   ]
  },
  {
   "cell_type": "markdown",
   "metadata": {},
   "source": [
    "# Profiling Python Performance\n",
    "\n",
    "The code blocks below can be ran to show a \"pager\" at the bottom of the window that displays how long that block took to run."
   ]
  },
  {
   "cell_type": "code",
   "execution_count": null,
   "metadata": {},
   "outputs": [],
   "source": [
    "%%prun -l 0\n",
    "count_csv_rows(pokemon_csv_path) # 930 rows"
   ]
  },
  {
   "cell_type": "code",
   "execution_count": null,
   "metadata": {},
   "outputs": [],
   "source": [
    "%%prun -l 0\n",
    "count_csv_rows(mtg_csv_path) # 35758 rows"
   ]
  },
  {
   "cell_type": "code",
   "execution_count": null,
   "metadata": {},
   "outputs": [],
   "source": [
    "%%prun -l 0\n",
    "most_common(mtg_csv_path, 'type')"
   ]
  },
  {
   "cell_type": "code",
   "execution_count": null,
   "metadata": {},
   "outputs": [],
   "source": [
    "%%prun -l 0\n",
    "most_common(mtg_csv_path, 'subtypes', lambda s: len(s))"
   ]
  }
 ],
 "metadata": {
  "kernelspec": {
   "display_name": "Python 3",
   "language": "python",
   "name": "python3"
  },
  "language_info": {
   "codemirror_mode": {
    "name": "ipython",
    "version": 3
   },
   "file_extension": ".py",
   "mimetype": "text/x-python",
   "name": "python",
   "nbconvert_exporter": "python",
   "pygments_lexer": "ipython3",
   "version": "3.7.6"
  }
 },
 "nbformat": 4,
 "nbformat_minor": 4
}
